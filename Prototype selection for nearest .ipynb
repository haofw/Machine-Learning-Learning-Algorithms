{
 "cells": [
  {
   "cell_type": "code",
   "execution_count": 1,
   "metadata": {
    "collapsed": true
   },
   "outputs": [],
   "source": [
    "import struct\n",
    "\n",
    "import numpy as np\n",
    "\n",
    "def read_idx(filename):\n",
    "    with open(filename, 'rb') as f:\n",
    "        zero, data_type, dims = struct.unpack('>HBB', f.read(4))\n",
    "        shape = tuple(struct.unpack('>I', f.read(4))[0] for d in range(dims))\n",
    "        return np.fromstring(f.read(), dtype=np.uint8).reshape(shape)"
   ]
  },
  {
   "cell_type": "code",
   "execution_count": 2,
   "metadata": {
    "collapsed": true
   },
   "outputs": [],
   "source": [
    "trdata = read_idx(\"train-images-idx3-ubyte\")\n",
    "trlabel = read_idx(\"train-labels-idx1-ubyte\")\n",
    "tedata = read_idx(\"t10k-images-idx3-ubyte\")\n",
    "telabel = read_idx(\"t10k-labels-idx1-ubyte\")"
   ]
  },
  {
   "cell_type": "code",
   "execution_count": 18,
   "metadata": {
    "collapsed": true
   },
   "outputs": [],
   "source": [
    "x_train = read_idx(\"train-images-idx3-ubyte\").tolist()\n",
    "y_train = read_idx(\"train-labels-idx1-ubyte\").tolist()\n",
    "x_test = read_idx(\"t10k-images-idx3-ubyte\").tolist()\n",
    "y_test = read_idx(\"t10k-labels-idx1-ubyte\").tolist()"
   ]
  },
  {
   "cell_type": "code",
   "execution_count": 34,
   "metadata": {
    "collapsed": true
   },
   "outputs": [],
   "source": [
    "import random\n",
    "k = 10000\n",
    "indicies = random.sample(range(len(x_train)), k)\n",
    "x_tr1 = []\n",
    "y_tr1 = []\n",
    "for i in indicies:\n",
    "    x_tr1.append(x_train[i])\n",
    "    y_tr1.append(y_train[i])"
   ]
  },
  {
   "cell_type": "code",
   "execution_count": 43,
   "metadata": {
    "collapsed": true
   },
   "outputs": [],
   "source": [
    "#####  change 3-dimension to 2\n",
    "xt1 = []\n",
    "for ma in x_tr1:\n",
    "    temp = []\n",
    "    for row in ma:\n",
    "        temp += row\n",
    "    xt1.append(temp)"
   ]
  },
  {
   "cell_type": "code",
   "execution_count": 67,
   "metadata": {
    "collapsed": true
   },
   "outputs": [],
   "source": [
    "from sklearn.neighbors import KNeighborsClassifier\n",
    "from sklearn.cluster import KMeans"
   ]
  },
  {
   "cell_type": "code",
   "execution_count": 47,
   "metadata": {},
   "outputs": [
    {
     "data": {
      "text/plain": [
       "KNeighborsClassifier(algorithm='auto', leaf_size=30, metric='minkowski',\n",
       "           metric_params=None, n_jobs=1, n_neighbors=1, p=2,\n",
       "           weights='uniform')"
      ]
     },
     "execution_count": 47,
     "metadata": {},
     "output_type": "execute_result"
    }
   ],
   "source": [
    "neigh = KNeighborsClassifier(n_neighbors=1)\n",
    "neigh.fit(xt1, y_tr1)"
   ]
  },
  {
   "cell_type": "code",
   "execution_count": 49,
   "metadata": {
    "collapsed": true
   },
   "outputs": [],
   "source": [
    "### for test \n",
    "xtest = []\n",
    "for ma in x_test:\n",
    "    temp = []\n",
    "    for row in ma:\n",
    "        temp += row\n",
    "    xtest.append(temp)"
   ]
  },
  {
   "cell_type": "code",
   "execution_count": 52,
   "metadata": {
    "collapsed": true
   },
   "outputs": [],
   "source": [
    "y_predict = neigh.predict(xtest)"
   ]
  },
  {
   "cell_type": "code",
   "execution_count": 56,
   "metadata": {
    "collapsed": true
   },
   "outputs": [],
   "source": [
    "y_predict = y_predict.tolist()"
   ]
  },
  {
   "cell_type": "code",
   "execution_count": 64,
   "metadata": {},
   "outputs": [
    {
     "name": "stdout",
     "output_type": "stream",
     "text": [
      "0.9475\n"
     ]
    }
   ],
   "source": [
    "###  accuracy\n",
    "number = 0\n",
    "for i in range(len(y_predict)):\n",
    "    if y_predict[i] == y_test[i]:\n",
    "        number += 1;\n",
    "accuracy = number/len(y_predict)\n",
    "print (accuracy)"
   ]
  },
  {
   "cell_type": "code",
   "execution_count": 94,
   "metadata": {
    "collapsed": true
   },
   "outputs": [],
   "source": [
    "xtrain0 = []\n",
    "xtrain1 = []\n",
    "xtrain2 = []\n",
    "xtrain3 = []\n",
    "xtrain4 = []\n",
    "xtrain5 = []\n",
    "xtrain6 = []\n",
    "xtrain7 = []\n",
    "xtrain8 = []\n",
    "xtrain9 = []\n",
    "\n",
    "ytrain0 = []\n",
    "ytrain1 = []\n",
    "ytrain2 = []\n",
    "ytrain3 = []\n",
    "ytrain4 = []\n",
    "ytrain5 = []\n",
    "ytrain6 = []\n",
    "ytrain7 = []\n",
    "ytrain8 = []\n",
    "ytrain9 = []"
   ]
  },
  {
   "cell_type": "code",
   "execution_count": 95,
   "metadata": {
    "collapsed": true
   },
   "outputs": [],
   "source": [
    "for i in range(len(x_train)):\n",
    "#     if i % 1000 == 0:\n",
    "#         print i\n",
    "    if y_train[i] == 0:\n",
    "        xtrain0.append(x_train[i])\n",
    "        ytrain0.append(y_train[i])\n",
    "        continue\n",
    "    if y_train[i] == 1:\n",
    "        xtrain1.append(x_train[i])\n",
    "        ytrain1.append(y_train[i])\n",
    "        continue\n",
    "    if y_train[i] == 2:\n",
    "        xtrain2.append(x_train[i])\n",
    "        ytrain2.append(y_train[i])\n",
    "        continue\n",
    "    if y_train[i] == 3:\n",
    "        xtrain3.append(x_train[i])\n",
    "        ytrain3.append(y_train[i])\n",
    "        continue\n",
    "    if y_train[i] == 4:\n",
    "        xtrain4.append(x_train[i])\n",
    "        ytrain4.append(y_train[i])\n",
    "        continue\n",
    "    if y_train[i] == 5:\n",
    "        xtrain5.append(x_train[i])\n",
    "        ytrain5.append(y_train[i])\n",
    "        continue\n",
    "    if y_train[i] == 6:\n",
    "        xtrain6.append(x_train[i])\n",
    "        ytrain6.append(y_train[i])\n",
    "        continue\n",
    "    if y_train[i] == 7:\n",
    "        xtrain7.append(x_train[i])\n",
    "        ytrain7.append(y_train[i])\n",
    "        continue\n",
    "    if y_train[i] == 8:\n",
    "        xtrain8.append(x_train[i])\n",
    "        ytrain8.append(y_train[i])\n",
    "        continue\n",
    "    if y_train[i] == 9:\n",
    "        xtrain9.append(x_train[i])\n",
    "        ytrain9.append(y_train[i])"
   ]
  },
  {
   "cell_type": "code",
   "execution_count": null,
   "metadata": {
    "collapsed": true
   },
   "outputs": [],
   "source": []
  },
  {
   "cell_type": "code",
   "execution_count": 90,
   "metadata": {
    "collapsed": true
   },
   "outputs": [],
   "source": [
    "def toTwo(data):\n",
    "    ret = []\n",
    "    for ma in data:\n",
    "        temp = []\n",
    "        for row in ma:\n",
    "            temp += row\n",
    "        ret.append(temp)\n",
    "    return ret"
   ]
  },
  {
   "cell_type": "code",
   "execution_count": 101,
   "metadata": {
    "collapsed": true
   },
   "outputs": [],
   "source": [
    "xt0 = toTwo(xtrain0)\n",
    "xt1 = toTwo(xtrain1)\n",
    "xt2 = toTwo(xtrain2)\n",
    "xt3 = toTwo(xtrain3)\n",
    "xt4 = toTwo(xtrain4)\n",
    "xt5 = toTwo(xtrain5)\n",
    "xt6 = toTwo(xtrain6)\n",
    "xt7 = toTwo(xtrain7)\n",
    "xt8 = toTwo(xtrain8)\n",
    "xt9 = toTwo(xtrain9)"
   ]
  },
  {
   "cell_type": "code",
   "execution_count": 140,
   "metadata": {
    "collapsed": true
   },
   "outputs": [],
   "source": [
    "# k-means prototype\n",
    "M = 10000\n",
    "div = M//10\n",
    "model = KMeans(n_clusters = div)\n",
    "model.fit(xt0)\n",
    "x_prototype = model.cluster_centers_\n",
    "y_prototype = [0] * (M//10)\n",
    "model.fit(xt1)\n",
    "x_prototype = np.concatenate((x_prototype, model.cluster_centers_))\n",
    "y_prototype = np.concatenate((y_prototype, [1] * (M//10)))\n",
    "model.fit(xt2)\n",
    "x_prototype = np.concatenate((x_prototype, model.cluster_centers_))\n",
    "y_prototype = np.concatenate((y_prototype, [2] * (M//10)))\n",
    "model.fit(xt3)\n",
    "x_prototype = np.concatenate((x_prototype, model.cluster_centers_))\n",
    "y_prototype = np.concatenate((y_prototype, [3] * (M//10)))\n",
    "model.fit(xt4)\n",
    "x_prototype = np.concatenate((x_prototype, model.cluster_centers_))\n",
    "y_prototype = np.concatenate((y_prototype, [4] * (M//10)))\n",
    "model.fit(xt5)\n",
    "x_prototype = np.concatenate((x_prototype, model.cluster_centers_))\n",
    "y_prototype = np.concatenate((y_prototype, [5] * (M//10)))\n",
    "model.fit(xt6)\n",
    "x_prototype = np.concatenate((x_prototype, model.cluster_centers_))\n",
    "y_prototype = np.concatenate((y_prototype, [6] * (M//10)))\n",
    "model.fit(xt7)\n",
    "x_prototype = np.concatenate((x_prototype, model.cluster_centers_))\n",
    "y_prototype = np.concatenate((y_prototype, [7] * (M//10)))\n",
    "model.fit(xt8)\n",
    "x_prototype = np.concatenate((x_prototype, model.cluster_centers_))\n",
    "y_prototype = np.concatenate((y_prototype, [8] * (M//10)))\n",
    "model.fit(xt9)\n",
    "x_prototype = np.concatenate((x_prototype, model.cluster_centers_))\n",
    "y_prototype = np.concatenate((y_prototype, [9] * (M//10)))"
   ]
  },
  {
   "cell_type": "code",
   "execution_count": 148,
   "metadata": {
    "collapsed": true
   },
   "outputs": [],
   "source": [
    "xx = x_prototype.tolist()\n",
    "yy = y_prototype.tolist()"
   ]
  },
  {
   "cell_type": "code",
   "execution_count": 150,
   "metadata": {},
   "outputs": [
    {
     "data": {
      "text/plain": [
       "KNeighborsClassifier(algorithm='auto', leaf_size=30, metric='minkowski',\n",
       "           metric_params=None, n_jobs=1, n_neighbors=1, p=2,\n",
       "           weights='uniform')"
      ]
     },
     "execution_count": 150,
     "metadata": {},
     "output_type": "execute_result"
    }
   ],
   "source": [
    "neigh = KNeighborsClassifier(n_neighbors=1)\n",
    "neigh.fit(xx, yy)"
   ]
  },
  {
   "cell_type": "code",
   "execution_count": 151,
   "metadata": {
    "collapsed": true
   },
   "outputs": [],
   "source": [
    "y_predict = neigh.predict(xtest)"
   ]
  },
  {
   "cell_type": "code",
   "execution_count": 152,
   "metadata": {},
   "outputs": [
    {
     "data": {
      "text/plain": [
       "array([7, 2, 1, ..., 4, 5, 6])"
      ]
     },
     "execution_count": 152,
     "metadata": {},
     "output_type": "execute_result"
    }
   ],
   "source": [
    "y_predict"
   ]
  },
  {
   "cell_type": "code",
   "execution_count": 153,
   "metadata": {
    "collapsed": true
   },
   "outputs": [],
   "source": [
    "y_predict = y_predict.tolist()"
   ]
  },
  {
   "cell_type": "code",
   "execution_count": 154,
   "metadata": {},
   "outputs": [
    {
     "name": "stdout",
     "output_type": "stream",
     "text": [
      "0.97\n"
     ]
    }
   ],
   "source": [
    "###  accuracy\n",
    "number = 0\n",
    "for i in range(len(y_predict)):\n",
    "    if y_predict[i] == y_test[i]:\n",
    "        number += 1;\n",
    "accuracy = number/len(y_predict)\n",
    "print (accuracy)"
   ]
  },
  {
   "cell_type": "code",
   "execution_count": null,
   "metadata": {
    "collapsed": true
   },
   "outputs": [],
   "source": [
    "######  5000"
   ]
  },
  {
   "cell_type": "code",
   "execution_count": 155,
   "metadata": {},
   "outputs": [
    {
     "name": "stdout",
     "output_type": "stream",
     "text": [
      "0.9663\n"
     ]
    }
   ],
   "source": [
    "# k-means prototype\n",
    "M = 5000\n",
    "div = M//10\n",
    "model = KMeans(n_clusters = div)\n",
    "model.fit(xt0)\n",
    "x_prototype = model.cluster_centers_\n",
    "y_prototype = [0] * (M//10)\n",
    "model.fit(xt1)\n",
    "x_prototype = np.concatenate((x_prototype, model.cluster_centers_))\n",
    "y_prototype = np.concatenate((y_prototype, [1] * (M//10)))\n",
    "model.fit(xt2)\n",
    "x_prototype = np.concatenate((x_prototype, model.cluster_centers_))\n",
    "y_prototype = np.concatenate((y_prototype, [2] * (M//10)))\n",
    "model.fit(xt3)\n",
    "x_prototype = np.concatenate((x_prototype, model.cluster_centers_))\n",
    "y_prototype = np.concatenate((y_prototype, [3] * (M//10)))\n",
    "model.fit(xt4)\n",
    "x_prototype = np.concatenate((x_prototype, model.cluster_centers_))\n",
    "y_prototype = np.concatenate((y_prototype, [4] * (M//10)))\n",
    "model.fit(xt5)\n",
    "x_prototype = np.concatenate((x_prototype, model.cluster_centers_))\n",
    "y_prototype = np.concatenate((y_prototype, [5] * (M//10)))\n",
    "model.fit(xt6)\n",
    "x_prototype = np.concatenate((x_prototype, model.cluster_centers_))\n",
    "y_prototype = np.concatenate((y_prototype, [6] * (M//10)))\n",
    "model.fit(xt7)\n",
    "x_prototype = np.concatenate((x_prototype, model.cluster_centers_))\n",
    "y_prototype = np.concatenate((y_prototype, [7] * (M//10)))\n",
    "model.fit(xt8)\n",
    "x_prototype = np.concatenate((x_prototype, model.cluster_centers_))\n",
    "y_prototype = np.concatenate((y_prototype, [8] * (M//10)))\n",
    "model.fit(xt9)\n",
    "x_prototype = np.concatenate((x_prototype, model.cluster_centers_))\n",
    "y_prototype = np.concatenate((y_prototype, [9] * (M//10)))\n",
    "\n",
    "xx = x_prototype.tolist()\n",
    "yy = y_prototype.tolist()\n",
    "\n",
    "neigh = KNeighborsClassifier(n_neighbors=1)\n",
    "neigh.fit(xx, yy)\n",
    "\n",
    "y_predict = neigh.predict(xtest)\n",
    "y_predict = y_predict.tolist()\n",
    "\n",
    "###  accuracy\n",
    "number = 0\n",
    "for i in range(len(y_predict)):\n",
    "    if y_predict[i] == y_test[i]:\n",
    "        number += 1;\n",
    "accuracy = number/len(y_predict)\n",
    "print (accuracy)"
   ]
  },
  {
   "cell_type": "code",
   "execution_count": 156,
   "metadata": {},
   "outputs": [
    {
     "name": "stdout",
     "output_type": "stream",
     "text": [
      "0.9573\n"
     ]
    }
   ],
   "source": [
    "# k-means prototype\n",
    "M = 1000\n",
    "div = M//10\n",
    "model = KMeans(n_clusters = div)\n",
    "model.fit(xt0)\n",
    "x_prototype = model.cluster_centers_\n",
    "y_prototype = [0] * (M//10)\n",
    "model.fit(xt1)\n",
    "x_prototype = np.concatenate((x_prototype, model.cluster_centers_))\n",
    "y_prototype = np.concatenate((y_prototype, [1] * (M//10)))\n",
    "model.fit(xt2)\n",
    "x_prototype = np.concatenate((x_prototype, model.cluster_centers_))\n",
    "y_prototype = np.concatenate((y_prototype, [2] * (M//10)))\n",
    "model.fit(xt3)\n",
    "x_prototype = np.concatenate((x_prototype, model.cluster_centers_))\n",
    "y_prototype = np.concatenate((y_prototype, [3] * (M//10)))\n",
    "model.fit(xt4)\n",
    "x_prototype = np.concatenate((x_prototype, model.cluster_centers_))\n",
    "y_prototype = np.concatenate((y_prototype, [4] * (M//10)))\n",
    "model.fit(xt5)\n",
    "x_prototype = np.concatenate((x_prototype, model.cluster_centers_))\n",
    "y_prototype = np.concatenate((y_prototype, [5] * (M//10)))\n",
    "model.fit(xt6)\n",
    "x_prototype = np.concatenate((x_prototype, model.cluster_centers_))\n",
    "y_prototype = np.concatenate((y_prototype, [6] * (M//10)))\n",
    "model.fit(xt7)\n",
    "x_prototype = np.concatenate((x_prototype, model.cluster_centers_))\n",
    "y_prototype = np.concatenate((y_prototype, [7] * (M//10)))\n",
    "model.fit(xt8)\n",
    "x_prototype = np.concatenate((x_prototype, model.cluster_centers_))\n",
    "y_prototype = np.concatenate((y_prototype, [8] * (M//10)))\n",
    "model.fit(xt9)\n",
    "x_prototype = np.concatenate((x_prototype, model.cluster_centers_))\n",
    "y_prototype = np.concatenate((y_prototype, [9] * (M//10)))\n",
    "\n",
    "xx = x_prototype.tolist()\n",
    "yy = y_prototype.tolist()\n",
    "\n",
    "neigh = KNeighborsClassifier(n_neighbors=1)\n",
    "neigh.fit(xx, yy)\n",
    "\n",
    "y_predict = neigh.predict(xtest)\n",
    "y_predict = y_predict.tolist()\n",
    "\n",
    "###  accuracy\n",
    "number = 0\n",
    "for i in range(len(y_predict)):\n",
    "    if y_predict[i] == y_test[i]:\n",
    "        number += 1;\n",
    "accuracy = number/len(y_predict)\n",
    "print (accuracy)"
   ]
  },
  {
   "cell_type": "code",
   "execution_count": null,
   "metadata": {
    "collapsed": true
   },
   "outputs": [],
   "source": []
  },
  {
   "cell_type": "code",
   "execution_count": 159,
   "metadata": {},
   "outputs": [
    {
     "name": "stdout",
     "output_type": "stream",
     "text": [
      "0.9479\n"
     ]
    }
   ],
   "source": [
    "###Random\n",
    "import random\n",
    "k = 10000\n",
    "indicies = random.sample(range(len(x_train)), k)\n",
    "x_tr1 = []\n",
    "y_tr1 = []\n",
    "for i in indicies:\n",
    "    x_tr1.append(x_train[i])\n",
    "    y_tr1.append(y_train[i])\n",
    "    \n",
    "xt1 = []\n",
    "for ma in x_tr1:\n",
    "    temp = []\n",
    "    for row in ma:\n",
    "        temp += row\n",
    "    xt1.append(temp)\n",
    "    \n",
    "neigh = KNeighborsClassifier(n_neighbors=1)\n",
    "neigh.fit(xt1, y_tr1)\n",
    "\n",
    "### for test \n",
    "xtest = []\n",
    "for ma in x_test:\n",
    "    temp = []\n",
    "    for row in ma:\n",
    "        temp += row\n",
    "    xtest.append(temp)\n",
    "    \n",
    "y_predict = neigh.predict(xtest)\n",
    "y_predict = y_predict.tolist()\n",
    "\n",
    "###  accuracy\n",
    "number = 0\n",
    "for i in range(len(y_predict)):\n",
    "    if y_predict[i] == y_test[i]:\n",
    "        number += 1;\n",
    "accuracy = number/len(y_predict)\n",
    "print (accuracy)"
   ]
  },
  {
   "cell_type": "code",
   "execution_count": 175,
   "metadata": {},
   "outputs": [
    {
     "name": "stdout",
     "output_type": "stream",
     "text": [
      "0.9337\n"
     ]
    }
   ],
   "source": [
    "###Random\n",
    "import random\n",
    "k = 5000\n",
    "indicies = random.sample(range(len(x_train)), k)\n",
    "x_tr1 = []\n",
    "y_tr1 = []\n",
    "for i in indicies:\n",
    "    x_tr1.append(x_train[i])\n",
    "    y_tr1.append(y_train[i])\n",
    "    \n",
    "xt1 = []\n",
    "for ma in x_tr1:\n",
    "    temp = []\n",
    "    for row in ma:\n",
    "        temp += row\n",
    "    xt1.append(temp)\n",
    "    \n",
    "neigh = KNeighborsClassifier(n_neighbors=1)\n",
    "neigh.fit(xt1, y_tr1)\n",
    "\n",
    "### for test \n",
    "xtest = []\n",
    "for ma in x_test:\n",
    "    temp = []\n",
    "    for row in ma:\n",
    "        temp += row\n",
    "    xtest.append(temp)\n",
    "    \n",
    "y_predict = neigh.predict(xtest)\n",
    "y_predict = y_predict.tolist()\n",
    "\n",
    "###  accuracy\n",
    "number = 0\n",
    "for i in range(len(y_predict)):\n",
    "    if y_predict[i] == y_test[i]:\n",
    "        number += 1;\n",
    "accuracy = number/len(y_predict)\n",
    "print (accuracy)"
   ]
  },
  {
   "cell_type": "code",
   "execution_count": 158,
   "metadata": {},
   "outputs": [
    {
     "name": "stdout",
     "output_type": "stream",
     "text": [
      "0.8815\n"
     ]
    }
   ],
   "source": [
    "###Random\n",
    "import random\n",
    "k = 1000\n",
    "indicies = random.sample(range(len(x_train)), k)\n",
    "x_tr1 = []\n",
    "y_tr1 = []\n",
    "for i in indicies:\n",
    "    x_tr1.append(x_train[i])\n",
    "    y_tr1.append(y_train[i])\n",
    "    \n",
    "xt1 = []\n",
    "for ma in x_tr1:\n",
    "    temp = []\n",
    "    for row in ma:\n",
    "        temp += row\n",
    "    xt1.append(temp)\n",
    "    \n",
    "neigh = KNeighborsClassifier(n_neighbors=1)\n",
    "neigh.fit(xt1, y_tr1)\n",
    "\n",
    "### for test \n",
    "xtest = []\n",
    "for ma in x_test:\n",
    "    temp = []\n",
    "    for row in ma:\n",
    "        temp += row\n",
    "    xtest.append(temp)\n",
    "    \n",
    "y_predict = neigh.predict(xtest)\n",
    "y_predict = y_predict.tolist()\n",
    "\n",
    "###  accuracy\n",
    "number = 0\n",
    "for i in range(len(y_predict)):\n",
    "    if y_predict[i] == y_test[i]:\n",
    "        number += 1;\n",
    "accuracy = number/len(y_predict)\n",
    "print (accuracy)"
   ]
  },
  {
   "cell_type": "code",
   "execution_count": 181,
   "metadata": {
    "collapsed": true
   },
   "outputs": [],
   "source": [
    "def getRandom(k):\n",
    "    ind = random.sample(range(len(x_train)), k)\n",
    "    x_1 = []\n",
    "    y_1 = []\n",
    "    for i in ind:\n",
    "        x_1.append(x_train[i])\n",
    "        y_1.append(y_train[i])\n",
    "\n",
    "    x1 = []\n",
    "    for ma in x_1:\n",
    "        temp = []\n",
    "        for row in ma:\n",
    "            temp += row\n",
    "        x1.append(temp)\n",
    "\n",
    "    neigh = KNeighborsClassifier(n_neighbors=1)\n",
    "    neigh.fit(x1, y_1)\n",
    "\n",
    "    ### for test \n",
    "    xt = []\n",
    "    for ma in x_test:\n",
    "        temp = []\n",
    "        for row in ma:\n",
    "            temp += row\n",
    "        xt.append(temp)\n",
    "\n",
    "    y_p = neigh.predict(xt)\n",
    "    y_p = y_p.tolist()\n",
    "\n",
    "    ###  accuracy\n",
    "    number = 0\n",
    "    for i in range(len(y_p)):\n",
    "        if y_p[i] == y_test[i]:\n",
    "            number += 1;\n",
    "    accuracy = number/len(y_p)\n",
    "    return accuracy"
   ]
  },
  {
   "cell_type": "code",
   "execution_count": 178,
   "metadata": {},
   "outputs": [
    {
     "data": {
      "text/plain": [
       "5000"
      ]
     },
     "execution_count": 178,
     "metadata": {},
     "output_type": "execute_result"
    }
   ],
   "source": [
    "len(indicies)"
   ]
  },
  {
   "cell_type": "code",
   "execution_count": 237,
   "metadata": {
    "collapsed": true
   },
   "outputs": [],
   "source": [
    "liA = []\n",
    "for i in range(100):\n",
    "    liA.append(getRandom(1000))\n",
    "liB = []\n",
    "for i in range(100):\n",
    "    liB.append(getRandom(5000))\n",
    "liC = []\n",
    "for i in range(100):\n",
    "    liC.append(getRandom(10000))\n",
    "    \n",
    "    \n"
   ]
  },
  {
   "cell_type": "code",
   "execution_count": 239,
   "metadata": {
    "collapsed": true
   },
   "outputs": [],
   "source": [
    "liA = [1 - i for i in liA]"
   ]
  },
  {
   "cell_type": "code",
   "execution_count": 240,
   "metadata": {
    "collapsed": true
   },
   "outputs": [],
   "source": [
    "liB = [1 - i for i in liB]"
   ]
  },
  {
   "cell_type": "code",
   "execution_count": 241,
   "metadata": {
    "collapsed": true
   },
   "outputs": [],
   "source": [
    "liC = [1 - i for i in liC]"
   ]
  },
  {
   "cell_type": "code",
   "execution_count": 242,
   "metadata": {},
   "outputs": [
    {
     "data": {
      "text/plain": [
       "[0.1159,\n",
       " 0.11150000000000004,\n",
       " 0.12050000000000005,\n",
       " 0.11339999999999995,\n",
       " 0.11270000000000002,\n",
       " 0.11309999999999998,\n",
       " 0.12270000000000003,\n",
       " 0.11760000000000004,\n",
       " 0.1301,\n",
       " 0.11229999999999996,\n",
       " 0.11460000000000004,\n",
       " 0.1078,\n",
       " 0.11450000000000005,\n",
       " 0.11909999999999998,\n",
       " 0.12219999999999998,\n",
       " 0.11680000000000001,\n",
       " 0.11060000000000003,\n",
       " 0.12090000000000001,\n",
       " 0.11950000000000005,\n",
       " 0.1119,\n",
       " 0.11460000000000004,\n",
       " 0.11309999999999998,\n",
       " 0.11599999999999999,\n",
       " 0.11419999999999997,\n",
       " 0.11760000000000004,\n",
       " 0.11729999999999996,\n",
       " 0.11450000000000005,\n",
       " 0.11660000000000004,\n",
       " 0.12009999999999998,\n",
       " 0.11529999999999996,\n",
       " 0.11629999999999996,\n",
       " 0.10860000000000003,\n",
       " 0.11470000000000002,\n",
       " 0.11180000000000001,\n",
       " 0.11050000000000004,\n",
       " 0.11760000000000004,\n",
       " 0.11560000000000004,\n",
       " 0.1059,\n",
       " 0.11509999999999998,\n",
       " 0.11299999999999999,\n",
       " 0.12060000000000004,\n",
       " 0.1149,\n",
       " 0.11529999999999996,\n",
       " 0.1078,\n",
       " 0.11350000000000005,\n",
       " 0.11739999999999995,\n",
       " 0.11529999999999996,\n",
       " 0.11319999999999997,\n",
       " 0.11699999999999999,\n",
       " 0.11760000000000004,\n",
       " 0.11309999999999998,\n",
       " 0.11280000000000001,\n",
       " 0.11660000000000004,\n",
       " 0.11370000000000002,\n",
       " 0.11229999999999996,\n",
       " 0.11529999999999996,\n",
       " 0.11529999999999996,\n",
       " 0.11280000000000001,\n",
       " 0.1079,\n",
       " 0.10960000000000003,\n",
       " 0.10840000000000005,\n",
       " 0.10919999999999996,\n",
       " 0.10699999999999998,\n",
       " 0.11180000000000001,\n",
       " 0.11909999999999998,\n",
       " 0.11760000000000004,\n",
       " 0.1069,\n",
       " 0.11450000000000005,\n",
       " 0.10809999999999997,\n",
       " 0.11019999999999996,\n",
       " 0.11509999999999998,\n",
       " 0.11129999999999995,\n",
       " 0.11960000000000004,\n",
       " 0.11580000000000001,\n",
       " 0.11719999999999997,\n",
       " 0.11419999999999997,\n",
       " 0.10950000000000004,\n",
       " 0.11060000000000003,\n",
       " 0.11880000000000002,\n",
       " 0.11539999999999995,\n",
       " 0.1069,\n",
       " 0.11370000000000002,\n",
       " 0.12150000000000005,\n",
       " 0.122,\n",
       " 0.11519999999999997,\n",
       " 0.11719999999999997,\n",
       " 0.1129,\n",
       " 0.11140000000000005,\n",
       " 0.11219999999999997,\n",
       " 0.11539999999999995,\n",
       " 0.11370000000000002,\n",
       " 0.11199999999999999,\n",
       " 0.10670000000000002,\n",
       " 0.11980000000000002,\n",
       " 0.11250000000000004,\n",
       " 0.10999999999999999,\n",
       " 0.11080000000000001,\n",
       " 0.12309999999999999,\n",
       " 0.10929999999999995,\n",
       " 0.11339999999999995]"
      ]
     },
     "execution_count": 242,
     "metadata": {},
     "output_type": "execute_result"
    }
   ],
   "source": [
    "liA"
   ]
  },
  {
   "cell_type": "code",
   "execution_count": 243,
   "metadata": {
    "collapsed": true
   },
   "outputs": [],
   "source": [
    "import numpy as np\n",
    "ua = np.mean(liA)\n",
    "ub = np.mean(liB)\n",
    "uc = np.mean(liC)"
   ]
  },
  {
   "cell_type": "code",
   "execution_count": 244,
   "metadata": {
    "collapsed": true
   },
   "outputs": [],
   "source": [
    "import math\n",
    "sigmaa = np.std(liA)\n",
    "sigmab = np.std(liB)\n",
    "sigmac = np.std(liC)"
   ]
  },
  {
   "cell_type": "code",
   "execution_count": 245,
   "metadata": {
    "collapsed": true
   },
   "outputs": [],
   "source": [
    "ta = 1.96 * (sigmaa)/(math.sqrt(10))\n",
    "tb = 1.96 * (sigmab)/(math.sqrt(10))\n",
    "tc = 1.96 * (sigmac)/(math.sqrt(10))"
   ]
  },
  {
   "cell_type": "code",
   "execution_count": 256,
   "metadata": {},
   "outputs": [
    {
     "data": {
      "text/plain": [
       "0.0011107339195324886"
      ]
     },
     "execution_count": 256,
     "metadata": {},
     "output_type": "execute_result"
    }
   ],
   "source": [
    "tc"
   ]
  },
  {
   "cell_type": "code",
   "execution_count": 253,
   "metadata": {},
   "outputs": [
    {
     "data": {
      "text/plain": [
       "0.051750000000000004"
      ]
     },
     "execution_count": 253,
     "metadata": {},
     "output_type": "execute_result"
    }
   ],
   "source": [
    "uc"
   ]
  },
  {
   "cell_type": "code",
   "execution_count": null,
   "metadata": {
    "collapsed": true
   },
   "outputs": [],
   "source": []
  },
  {
   "cell_type": "code",
   "execution_count": null,
   "metadata": {
    "collapsed": true
   },
   "outputs": [],
   "source": []
  }
 ],
 "metadata": {
  "kernelspec": {
   "display_name": "Python 3",
   "language": "python",
   "name": "python3"
  },
  "language_info": {
   "codemirror_mode": {
    "name": "ipython",
    "version": 3
   },
   "file_extension": ".py",
   "mimetype": "text/x-python",
   "name": "python",
   "nbconvert_exporter": "python",
   "pygments_lexer": "ipython3",
   "version": "3.6.2"
  }
 },
 "nbformat": 4,
 "nbformat_minor": 2
}
