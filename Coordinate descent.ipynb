{
 "cells": [
  {
   "cell_type": "code",
   "execution_count": 412,
   "metadata": {
    "collapsed": true
   },
   "outputs": [],
   "source": [
    "import numpy as np\n",
    "import math\n",
    "from random import shuffle\n",
    "import random\n",
    "import numpy as np\n",
    "import matplotlib.pyplot as plt\n",
    "from sklearn import metrics, linear_model, datasets, preprocessing"
   ]
  },
  {
   "cell_type": "code",
   "execution_count": 445,
   "metadata": {},
   "outputs": [],
   "source": [
    "with open('wine.data.txt') as f:\n",
    "    content = [[float(x) for x in line.strip().split(',')] for line in f.readlines()]\n",
    "content = [i for i in content if i[0] != 3]\n",
    "shuffle(content)\n",
    "# trainingLabel = map(lambda x : -1 if x[0]==2 else x[0], content[:65])\n",
    "# trainingData = map(lambda x : x[1:]+[1], content[:65])\n",
    "testLabel = map(lambda x : -1 if x[0] ==2 else x[0], content[65:])\n",
    "testData = map(lambda x : x[1:]+[1], content[65:])\n",
    "trainingLabel = map(lambda x : -1 if x[0]==2 else x[0], content[:130])\n",
    "trainingData = map(lambda x : x[1:]+[1], content[:130])"
   ]
  },
  {
   "cell_type": "code",
   "execution_count": 482,
   "metadata": {},
   "outputs": [],
   "source": [
    "with open('wine.data.txt') as f:\n",
    "    content = [[float(x) for x in line.strip().split(',')] for line in f.readlines()]\n",
    "shuffle(content)\n",
    "wineLabel = map(lambda x : -1 if x[0] == 1.0 else 1, content[:130])\n",
    "wineData = np.array(list(map(lambda x : x[1:14], content[:130])))"
   ]
  },
  {
   "cell_type": "code",
   "execution_count": 483,
   "metadata": {},
   "outputs": [],
   "source": [
    "wineData = (wineData-np.mean(wineData,axis = 0))/np.std(wineData,axis = 0)\n",
    "#wineData = wineData/np.max(wineData, axis = 0)\n",
    "offset=np.ones(130)\n",
    "wineData = np.c_[wineData,offset]"
   ]
  },
  {
   "cell_type": "code",
   "execution_count": 484,
   "metadata": {},
   "outputs": [],
   "source": [
    "trd = wineData\n",
    "trl = list(wineLabel)"
   ]
  },
  {
   "cell_type": "code",
   "execution_count": null,
   "metadata": {},
   "outputs": [],
   "source": []
  },
  {
   "cell_type": "code",
   "execution_count": null,
   "metadata": {},
   "outputs": [],
   "source": []
  },
  {
   "cell_type": "code",
   "execution_count": null,
   "metadata": {
    "collapsed": true
   },
   "outputs": [],
   "source": []
  },
  {
   "cell_type": "code",
   "execution_count": 414,
   "metadata": {
    "collapsed": true
   },
   "outputs": [],
   "source": [
    "trl = list(trainingLabel)\n",
    "trd = list(trainingData)\n",
    "tel = list(testLabel)\n",
    "ted = list(testData)"
   ]
  },
  {
   "cell_type": "code",
   "execution_count": 416,
   "metadata": {},
   "outputs": [
    {
     "name": "stderr",
     "output_type": "stream",
     "text": [
      "/Users/haofanwu/anaconda3/lib/python3.6/site-packages/ipykernel_launcher.py:1: RuntimeWarning: invalid value encountered in true_divide\n",
      "  \"\"\"Entry point for launching an IPython kernel.\n"
     ]
    }
   ],
   "source": [
    "trd = (trd - np.mean(trd,axis = 0))/np.std(trd,axis = 0)"
   ]
  },
  {
   "cell_type": "code",
   "execution_count": 418,
   "metadata": {},
   "outputs": [
    {
     "data": {
      "text/plain": [
       "array([[-0.81784764, -0.77355059, -1.35283386, ...,  0.13862352,\n",
       "        -1.36148671,         nan],\n",
       "       [ 0.60532715, -0.18033426,  0.23491391, ...,  1.08932411,\n",
       "         0.36994445,         nan],\n",
       "       [-1.30353427,  0.18472195,  1.484843  , ..., -1.0867239 ,\n",
       "        -0.92293343,         nan],\n",
       "       ..., \n",
       "       [-1.4616648 , -0.34004635,  0.94433312, ...,  0.54003044,\n",
       "        -0.64954956,         nan],\n",
       "       [-0.78396252, -0.27159831, -0.74476025, ...,  0.45552372,\n",
       "        -0.79763249,         nan],\n",
       "       [-1.68756556,  0.49273812,  0.26869578, ...,  0.92031067,\n",
       "        -0.47014139,         nan]])"
      ]
     },
     "execution_count": 418,
     "metadata": {},
     "output_type": "execute_result"
    }
   ],
   "source": [
    "trd"
   ]
  },
  {
   "cell_type": "code",
   "execution_count": null,
   "metadata": {
    "collapsed": true
   },
   "outputs": [],
   "source": []
  },
  {
   "cell_type": "code",
   "execution_count": null,
   "metadata": {
    "collapsed": true
   },
   "outputs": [],
   "source": []
  },
  {
   "cell_type": "code",
   "execution_count": 404,
   "metadata": {
    "collapsed": true
   },
   "outputs": [],
   "source": [
    "trd = trd/np.max(trd,0)\n",
    "ted = ted/np.max(ted,0)"
   ]
  },
  {
   "cell_type": "code",
   "execution_count": null,
   "metadata": {},
   "outputs": [],
   "source": []
  },
  {
   "cell_type": "code",
   "execution_count": 406,
   "metadata": {},
   "outputs": [
    {
     "name": "stdout",
     "output_type": "stream",
     "text": [
      "0.0\n"
     ]
    }
   ],
   "source": [
    "# logreg = linear_model.LogisticRegression(C = 1e5, solver = 'lbfgs', multi_class = 'multinomial')\n",
    "logreg = linear_model.LogisticRegression(C = 1e6, fit_intercept = False)\n",
    "logreg.fit(trd,trl)\n",
    "Z = logreg.predict(trd)\n",
    "errorRate = len(list(filter(lambda x: x[0] != x[1], zip(Z,trl))))*1.0/len(Z)\n",
    "print (errorRate)"
   ]
  },
  {
   "cell_type": "code",
   "execution_count": 6,
   "metadata": {
    "collapsed": true
   },
   "outputs": [],
   "source": [
    "w_p = logreg.coef_\n",
    "b_p = logreg.intercept_"
   ]
  },
  {
   "cell_type": "code",
   "execution_count": 7,
   "metadata": {
    "collapsed": true
   },
   "outputs": [],
   "source": [
    "def logistic_probability(X, w, Y):\n",
    "    ret = []\n",
    "    for i in range(len(X)):\n",
    "        pr = -Y[i]*(np.dot(w,X[i]))\n",
    "        pr = 1/ (np.exp(pr) + 1)\n",
    "        ret.append(pr)\n",
    "    return ret"
   ]
  },
  {
   "cell_type": "code",
   "execution_count": 8,
   "metadata": {
    "collapsed": true
   },
   "outputs": [],
   "source": [
    "def logistic_regression(X,w,Y):\n",
    "    ret = 0\n",
    "    for i in range(len(X)):\n",
    "        temp = np.log(1+np.exp(-Y[i]*(np.dot(w,X[i]))))\n",
    "        ret += temp\n",
    "    return ret"
   ]
  },
  {
   "cell_type": "code",
   "execution_count": 9,
   "metadata": {
    "collapsed": true
   },
   "outputs": [],
   "source": [
    "def ll(X, w, Y):\n",
    "    ret = []\n",
    "    for i in range(len(X)):\n",
    "        pr = Y[i]*(np.dot(w,X[i]))\n",
    "        pr = 1/ (np.exp(pr) + 1)\n",
    "        ret.append(pr)\n",
    "    return ret"
   ]
  },
  {
   "cell_type": "code",
   "execution_count": 19,
   "metadata": {},
   "outputs": [],
   "source": [
    "a = list(trd[0])\n",
    "a = np.array([a])\n",
    "b = a.T * a\n",
    "# de1(trd, w, trl)"
   ]
  },
  {
   "cell_type": "code",
   "execution_count": 11,
   "metadata": {
    "collapsed": true
   },
   "outputs": [],
   "source": [
    "def de1(X,w,Y):\n",
    "    p = logistic_probability(X,w,Y)\n",
    "    p = [1 - n for n in p]\n",
    "    ret = list(np.zeros(14))\n",
    "    #f = logistic_regression(X,w,Y)\n",
    "    for i in range(len(X)):\n",
    "        temp = np.dot(Y[i],X[i])\n",
    "        temp = np.dot(temp,p[i])\n",
    "        ret = list(map(lambda x: x[0]+x[1], zip(ret, temp)))\n",
    "    return ret"
   ]
  },
  {
   "cell_type": "code",
   "execution_count": 13,
   "metadata": {
    "collapsed": true
   },
   "outputs": [],
   "source": [
    "a = np.array([list(trd[0])])"
   ]
  },
  {
   "cell_type": "code",
   "execution_count": 14,
   "metadata": {
    "collapsed": true
   },
   "outputs": [],
   "source": [
    "def deri(X,w,Y):\n",
    "    ret = np.zeros((14,14))\n",
    "    for i in range(len(X)):\n",
    "        temp = np.array([list(X[i])])\n",
    "        temp = np.linalg.inv(temp.T * temp) + np.identity(14)\n",
    "        #temp = np.dot(X[i],X[i])\n",
    "        temp = temp * np.exp(-Y[i]*(np.dot(w,X[i])))\n",
    "        temp = -temp / ((1 + np.exp(-Y[i]*(np.dot(w,X[i]))))*(1 + np.exp(-Y[i]*(np.dot(w,X[i])))))\n",
    "        ret = ret + temp\n",
    "    return ret"
   ]
  },
  {
   "cell_type": "code",
   "execution_count": 15,
   "metadata": {
    "collapsed": true
   },
   "outputs": [],
   "source": [
    "def newton(X, w, Y):\n",
    "    p = logistic_probability(X,w,Y)\n",
    "    p = [1 - n for n in p]\n",
    "    ret = list(np.zeros(14))\n",
    "    #f = logistic_regression(X,w,Y)\n",
    "    for i in range(len(X)):\n",
    "        temp = np.dot(Y[i],X[i])\n",
    "        temp = np.dot(temp,p[i])\n",
    "        #temp = f/temp\n",
    "        ret = list(map(lambda x: x[0]+x[1], zip(ret, temp)))\n",
    "    #ret = ret/f\n",
    "    ret = ret/deri(X,w,Y)\n",
    "    return ret"
   ]
  },
  {
   "cell_type": "code",
   "execution_count": 16,
   "metadata": {
    "collapsed": true
   },
   "outputs": [],
   "source": [
    "w = list(np.zeros(14))"
   ]
  },
  {
   "cell_type": "code",
   "execution_count": 20,
   "metadata": {
    "collapsed": true,
    "scrolled": true
   },
   "outputs": [],
   "source": [
    "def gradient(X, w, Y, alp):\n",
    "    #p = ll(X,w,Y)\n",
    "    p = logistic_probability(X,w,Y)\n",
    "    p = [1 - n for n in p]\n",
    "    ret = list(np.zeros(14))\n",
    "    for i in range(len(X)):\n",
    "        temp = np.dot(Y[i],X[i])\n",
    "        temp = np.dot(temp,p[i])\n",
    "        ret = list(map(lambda x: x[0]+x[1], zip(ret, temp)))\n",
    "    ret = np.dot(ret,alp)\n",
    "    return ret"
   ]
  },
  {
   "cell_type": "code",
   "execution_count": 21,
   "metadata": {
    "collapsed": true
   },
   "outputs": [],
   "source": [
    "# def conver2(X,w,Y):\n",
    "#     los = []\n",
    "#     los.append(logistic_regression(X,w,Y))\n",
    "#     for i in range(50000):\n",
    "#         gra = newton(X,w,Y)\n",
    "#         ax = np.argmax(np.abs(gra))\n",
    "#         lost_pre = logistic_regression(X,w,Y)\n",
    "#         w[ax] += gra[ax]\n",
    "#         #w[ax] -= gra[ax]\n",
    "#         lost_cur = logistic_regression(X,w,Y)\n",
    "#         los.append(lost_cur)\n",
    "#         if(np.abs(lost_pre - lost_cur) < 1e-4):\n",
    "#             break\n",
    "#     return [lost_cur,los]\n",
    "\n",
    "\n",
    "\n",
    "\n",
    "\n",
    "def conver2(X,w,Y):\n",
    "    los = []\n",
    "    los.append(logistic_regression(X,w,Y))\n",
    "    #ax = 0\n",
    "    for i in range(50000):\n",
    "        gra = newton(X,w,Y)\n",
    "        ax = np.argmax(np.abs(gra))\n",
    "        lost_pre = logistic_regression(X,w,Y)\n",
    "        w[ax] -= gra[ax]\n",
    "        #w[ax] -= gra[ax]\n",
    "        lost_cur = logistic_regression(X,w,Y)\n",
    "        los.append(lost_cur)\n",
    "#         if ax == 13:\n",
    "#             ax = 0\n",
    "        if(np.abs(lost_pre - lost_cur) < 1e-4):\n",
    "            break\n",
    "    return [lost_cur,los]"
   ]
  },
  {
   "cell_type": "code",
   "execution_count": 143,
   "metadata": {
    "collapsed": true
   },
   "outputs": [],
   "source": [
    "w = list(np.zeros(14))\n",
    "ret_conver2 = conver2(trd, w, trl)"
   ]
  },
  {
   "cell_type": "code",
   "execution_count": 144,
   "metadata": {},
   "outputs": [
    {
     "data": {
      "text/plain": [
       "1.6246417939411144"
      ]
     },
     "execution_count": 144,
     "metadata": {},
     "output_type": "execute_result"
    }
   ],
   "source": [
    "ret_conver2[0]"
   ]
  },
  {
   "cell_type": "code",
   "execution_count": 145,
   "metadata": {},
   "outputs": [
    {
     "data": {
      "image/png": "[encoded data removed]",
      "text/plain": [
       "<matplotlib.figure.Figure at 0x11a8fe6a0>"
      ]
     },
     "metadata": {},
     "output_type": "display_data"
    }
   ],
   "source": [
    "draw(ret_conver2)"
   ]
  },
  {
   "cell_type": "code",
   "execution_count": 150,
   "metadata": {
    "collapsed": true
   },
   "outputs": [],
   "source": [
    "def draw(ff):\n",
    "    x= [i for i in range(len(ff[1]))]\n",
    "    y= ff[1]\n",
    "\n",
    "    plt.figure()\n",
    "    plt.plot(x,y) \n",
    "    plt.show()\n",
    "    # plt.xlabel(\"time(s)\")  \n",
    "    # plt.ylabel(\"value(m)\")  \n",
    "    # plt.title(\"A simple plot\")  "
   ]
  },
  {
   "cell_type": "code",
   "execution_count": null,
   "metadata": {
    "collapsed": true
   },
   "outputs": [],
   "source": []
  },
  {
   "cell_type": "code",
   "execution_count": null,
   "metadata": {
    "collapsed": true
   },
   "outputs": [],
   "source": []
  },
  {
   "cell_type": "code",
   "execution_count": null,
   "metadata": {
    "collapsed": true
   },
   "outputs": [],
   "source": []
  },
  {
   "cell_type": "code",
   "execution_count": 633,
   "metadata": {
    "collapsed": true
   },
   "outputs": [],
   "source": [
    "def random_2(X,w,Y,alp):\n",
    "    los = []\n",
    "    los.append(logistic_regression(X,w,Y))\n",
    "    for i in range(3000):\n",
    "        gra = gradient(X,w,Y,alp)\n",
    "        ax = random.randint(0,13)\n",
    "        lost_pre = logistic_regression(X,w,Y)\n",
    "        w[ax] += gra[ax]\n",
    "        #w[ax] -= gra[ax]\n",
    "        lost_cur = logistic_regression(X,w,Y)\n",
    "        los.append(lost_cur)\n",
    "#         if(np.abs(lost_pre - lost_cur) < 1e-8):\n",
    "#             break\n",
    "    return [lost_cur,los, i]"
   ]
  },
  {
   "cell_type": "code",
   "execution_count": 634,
   "metadata": {
    "collapsed": true
   },
   "outputs": [],
   "source": [
    "w = list(np.zeros(14))\n",
    "ret_ran = random_2(trd, w, trl, 0.25)"
   ]
  },
  {
   "cell_type": "code",
   "execution_count": 528,
   "metadata": {
    "collapsed": true
   },
   "outputs": [],
   "source": [
    "def conver(X,w,Y,alp):\n",
    "    los = []\n",
    "    los.append(logistic_regression(X,w,Y))\n",
    "    for i in range(10000):\n",
    "        gra = gradient(X,w,Y,alp)\n",
    "        ax = np.argmax(np.abs(gra))\n",
    "        lost_pre = logistic_regression(X,w,Y)\n",
    "        w[ax] += gra[ax]\n",
    "        #w[ax] -= gra[ax]\n",
    "        lost_cur = logistic_regression(X,w,Y)\n",
    "        los.append(lost_cur)\n",
    "        if(np.abs(lost_pre - lost_cur) < 1e-8):\n",
    "            break\n",
    "    return [lost_cur,los, i]"
   ]
  },
  {
   "cell_type": "code",
   "execution_count": 536,
   "metadata": {
    "collapsed": true
   },
   "outputs": [],
   "source": [
    "w = list(np.zeros(14))"
   ]
  },
  {
   "cell_type": "code",
   "execution_count": 537,
   "metadata": {
    "collapsed": true
   },
   "outputs": [],
   "source": [
    "ret_zero_one = conver(trd, w, trl, 0.25)"
   ]
  },
  {
   "cell_type": "code",
   "execution_count": 631,
   "metadata": {},
   "outputs": [
    {
     "data": {
      "text/plain": [
       "0.49488651694426306"
      ]
     },
     "execution_count": 631,
     "metadata": {},
     "output_type": "execute_result"
    }
   ],
   "source": [
    "ret_ran[0]"
   ]
  },
  {
   "cell_type": "code",
   "execution_count": 643,
   "metadata": {},
   "outputs": [
    {
     "data": {
      "image/png": "[encoded data removed]",
      "text/plain": [
       "<matplotlib.figure.Figure at 0x1a1b9b1e10>"
      ]
     },
     "metadata": {},
     "output_type": "display_data"
    }
   ],
   "source": [
    "draw(ret_ran)"
   ]
  },
  {
   "cell_type": "code",
   "execution_count": 619,
   "metadata": {},
   "outputs": [
    {
     "data": {
      "text/plain": [
       "0.0063831971239268846"
      ]
     },
     "execution_count": 619,
     "metadata": {},
     "output_type": "execute_result"
    }
   ],
   "source": [
    "ret_zero_one[0]"
   ]
  },
  {
   "cell_type": "code",
   "execution_count": null,
   "metadata": {},
   "outputs": [],
   "source": []
  },
  {
   "cell_type": "code",
   "execution_count": 648,
   "metadata": {},
   "outputs": [
    {
     "data": {
      "image/png": "[encoded data removed]",
      "text/plain": [
       "<matplotlib.figure.Figure at 0x1a1adb7940>"
      ]
     },
     "metadata": {},
     "output_type": "display_data"
    }
   ],
   "source": [
    "x= [i for i in range(5,400)]\n",
    "y= ret_zero_one[1][5:400]\n",
    "# y2 = [0.00759297]*(40 - 10)\n",
    "yr = ret_ran[1][5:400]\n",
    "plt.figure()\n",
    "plt.plot(x,y)\n",
    "# plt.plot(x,y2)\n",
    "plt.plot(x,yr)\n",
    "plt.plot()\n",
    "plt.show()"
   ]
  },
  {
   "cell_type": "code",
   "execution_count": null,
   "metadata": {
    "collapsed": true
   },
   "outputs": [],
   "source": []
  },
  {
   "cell_type": "code",
   "execution_count": 63,
   "metadata": {
    "collapsed": true,
    "scrolled": false
   },
   "outputs": [],
   "source": [
    "ret = conver(trd, w, trl, 0.01)"
   ]
  },
  {
   "cell_type": "code",
   "execution_count": 64,
   "metadata": {},
   "outputs": [
    {
     "data": {
      "text/plain": [
       "7.9139595018849329"
      ]
     },
     "execution_count": 64,
     "metadata": {},
     "output_type": "execute_result"
    }
   ],
   "source": [
    "ret[0]  #0.01"
   ]
  },
  {
   "cell_type": "code",
   "execution_count": 534,
   "metadata": {},
   "outputs": [
    {
     "data": {
      "text/plain": [
       "0.0097273638439942852"
      ]
     },
     "execution_count": 534,
     "metadata": {},
     "output_type": "execute_result"
    }
   ],
   "source": [
    "ret_zero_one[0]"
   ]
  },
  {
   "cell_type": "code",
   "execution_count": 116,
   "metadata": {},
   "outputs": [
    {
     "data": {
      "image/png": "[encoded data removed]",
      "text/plain": [
       "<matplotlib.figure.Figure at 0x10dad2278>"
      ]
     },
     "metadata": {},
     "output_type": "display_data"
    }
   ],
   "source": [
    "import numpy as np  \n",
    "import matplotlib.pyplot as plt  \n",
    "\n",
    "x= [i for i in range(len(ret_zero_one[1]))]\n",
    "y= ret_zero_one[1]\n",
    "\n",
    "plt.figure()\n",
    "plt.plot(x,y)\n",
    "plt.show()\n",
    "# plt.xlabel(\"time(s)\")  \n",
    "# plt.ylabel(\"value(m)\")  \n",
    "# plt.title(\"A simple plot\")  "
   ]
  },
  {
   "cell_type": "code",
   "execution_count": 81,
   "metadata": {},
   "outputs": [
    {
     "data": {
      "image/png": "[encoded data removed]",
      "text/plain": [
       "<matplotlib.figure.Figure at 0x10dac7320>"
      ]
     },
     "metadata": {},
     "output_type": "display_data"
    }
   ],
   "source": [
    "import numpy as np  \n",
    "import matplotlib.pyplot as plt  \n",
    "  \n",
    "x= [i for i in range(10001)]\n",
    "y= ret[1]\n",
    "  \n",
    "plt.figure()\n",
    "plt.plot(x,y) \n",
    "plt.show()\n",
    "# plt.xlabel(\"time(s)\")  \n",
    "# plt.ylabel(\"value(m)\")  \n",
    "# plt.title(\"A simple plot\")  "
   ]
  },
  {
   "cell_type": "code",
   "execution_count": 114,
   "metadata": {
    "scrolled": true
   },
   "outputs": [
    {
     "data": {
      "text/plain": [
       "[0.64606675792057611,\n",
       " 9.0458603933608934,\n",
       " 14.403004940239217,\n",
       " -16.27271724942818,\n",
       " 0.0,\n",
       " 0.0,\n",
       " 0.30494595046834888,\n",
       " 0.0,\n",
       " -0.55350092508224391,\n",
       " 11.11528342686286,\n",
       " -1.3361442974499846,\n",
       " 7.6538586783875786,\n",
       " 28.098255919675683,\n",
       " -27.055067786285314]"
      ]
     },
     "execution_count": 114,
     "metadata": {},
     "output_type": "execute_result"
    }
   ],
   "source": [
    "w"
   ]
  },
  {
   "cell_type": "code",
   "execution_count": 49,
   "metadata": {
    "collapsed": true
   },
   "outputs": [],
   "source": [
    "def fit(X, w):\n",
    "    ret = []\n",
    "    for i in range(len(X)):\n",
    "        pr = -(np.dot(w,X[i]))\n",
    "        pr = 1/ (np.exp(pr) + 1)\n",
    "        ret.append(pr)\n",
    "    return ret"
   ]
  },
  {
   "cell_type": "code",
   "execution_count": 55,
   "metadata": {
    "collapsed": true
   },
   "outputs": [],
   "source": [
    "def getError(X,w):\n",
    "    fi = fit(X,w)\n",
    "    pr = []\n",
    "    for i in fi:\n",
    "        if i <= 0.5:\n",
    "            pr.append(-1)\n",
    "        else:\n",
    "            pr.append(1)\n",
    "    errorRate = len(list(filter(lambda x: x[0] != x[1], zip(pr,trl))))*1.0/len(pr)\n",
    "    return errorRate"
   ]
  },
  {
   "cell_type": "code",
   "execution_count": 56,
   "metadata": {
    "scrolled": true
   },
   "outputs": [
    {
     "data": {
      "text/plain": [
       "202.30487201169444"
      ]
     },
     "execution_count": 56,
     "metadata": {},
     "output_type": "execute_result"
    }
   ],
   "source": [
    "logistic_regression(trd,w,trl)"
   ]
  },
  {
   "cell_type": "code",
   "execution_count": 58,
   "metadata": {},
   "outputs": [
    {
     "data": {
      "text/plain": [
       "0.45384615384615384"
      ]
     },
     "execution_count": 58,
     "metadata": {},
     "output_type": "execute_result"
    }
   ],
   "source": [
    "getError(trd,w)"
   ]
  },
  {
   "cell_type": "code",
   "execution_count": 104,
   "metadata": {
    "scrolled": true
   },
   "outputs": [
    {
     "data": {
      "text/plain": [
       "array([[ 38.99981167,  17.7706414 ,  48.81469621, -40.32456067,\n",
       "          2.13747405,  -6.91529868,   7.12273034,  -4.01614505,\n",
       "         -5.19484278,  14.33681114, -22.78991237,  15.0842625 ,\n",
       "         63.67373528, -79.8880186 ]])"
      ]
     },
     "execution_count": 104,
     "metadata": {},
     "output_type": "execute_result"
    }
   ],
   "source": [
    "w_p"
   ]
  },
  {
   "cell_type": "code",
   "execution_count": 407,
   "metadata": {},
   "outputs": [
    {
     "data": {
      "text/plain": [
       "array([ 0.00759297])"
      ]
     },
     "execution_count": 407,
     "metadata": {},
     "output_type": "execute_result"
    }
   ],
   "source": [
    "logistic_regression(trd, w_p,trl)"
   ]
  },
  {
   "cell_type": "code",
   "execution_count": 61,
   "metadata": {},
   "outputs": [
    {
     "data": {
      "text/plain": [
       "array([1, 2, 3])"
      ]
     },
     "execution_count": 61,
     "metadata": {},
     "output_type": "execute_result"
    }
   ],
   "source": [
    "np.dot(1,[1,2,3])"
   ]
  },
  {
   "cell_type": "code",
   "execution_count": null,
   "metadata": {
    "collapsed": true
   },
   "outputs": [],
   "source": []
  },
  {
   "cell_type": "code",
   "execution_count": 22,
   "metadata": {},
   "outputs": [],
   "source": [
    "# update_H(trl, w_diff, H)"
   ]
  },
  {
   "cell_type": "code",
   "execution_count": 98,
   "metadata": {
    "collapsed": true
   },
   "outputs": [],
   "source": [
    "w = list(np.zeros(14))\n",
    "H = np.identity(14)\n",
    "step_size = 0.1\n",
    "I = np.identity(14)"
   ]
  },
  {
   "cell_type": "code",
   "execution_count": 96,
   "metadata": {},
   "outputs": [
    {
     "data": {
      "text/plain": [
       "array([[ 0.20515846,  0.16025862,  0.2244582 ,  0.7195    ,  0.13549383,\n",
       "        -0.09265464, -0.27775591,  0.65984848,  0.05153631, -0.60123596,\n",
       "         0.36070175,  0.143125  , -0.86136905,  0.6       ]])"
      ]
     },
     "execution_count": 96,
     "metadata": {},
     "output_type": "execute_result"
    }
   ],
   "source": [
    "g[1]"
   ]
  },
  {
   "cell_type": "code",
   "execution_count": 101,
   "metadata": {},
   "outputs": [],
   "source": [
    "g = update(H, w, trd, trl)"
   ]
  },
  {
   "cell_type": "code",
   "execution_count": 102,
   "metadata": {
    "scrolled": true
   },
   "outputs": [],
   "source": [
    "k = update_H(g[0],g[1],H)"
   ]
  },
  {
   "cell_type": "code",
   "execution_count": null,
   "metadata": {},
   "outputs": [],
   "source": []
  },
  {
   "cell_type": "code",
   "execution_count": 165,
   "metadata": {
    "collapsed": true
   },
   "outputs": [],
   "source": [
    "def update_H(g,w_diff,H):\n",
    "    (I - (g * w_diff.T)/(g.T * w_diff)).T * H*(I - (g * w_diff.T)/(g.T * w_diff)) + w_diff*w_diff.T/(g.T*w_diff)\n",
    "    return H\n",
    "def update(H,w,X, y, step_size):\n",
    "    w_cur=w\n",
    "    w_diff_array=-step_size*np.dot(H,(np.array([de1(X,w,y)]).T))\n",
    "    w_diff = list(w_diff_array[:,0])\n",
    "    w=list(map(lambda x: x[0]+x[1], zip(w, w_diff)))\n",
    "    g=np.array([de1(X,w,y)]).T-np.array([de1(X,w_cur,y)]).T\n",
    "    return [g,w_diff_array.T,w]"
   ]
  },
  {
   "cell_type": "code",
   "execution_count": 142,
   "metadata": {
    "collapsed": true
   },
   "outputs": [],
   "source": [
    "def de1(X,w,Y):\n",
    "    p = logistic_probability(X,w,Y)\n",
    "    p = [1 - n for n in p]\n",
    "    ret = list(np.zeros(14))\n",
    "    #f = logistic_regression(X,w,Y)\n",
    "    for i in range(len(X)):\n",
    "        temp = np.dot(Y[i],X[i])\n",
    "        temp = np.dot(temp,p[i])\n",
    "        ret = list(map(lambda x: x[0]+x[1], zip(ret, temp)))\n",
    "    return list(np.dot(-1,ret))"
   ]
  },
  {
   "cell_type": "code",
   "execution_count": null,
   "metadata": {
    "collapsed": true
   },
   "outputs": [],
   "source": []
  },
  {
   "cell_type": "code",
   "execution_count": null,
   "metadata": {},
   "outputs": [],
   "source": []
  },
  {
   "cell_type": "code",
   "execution_count": 250,
   "metadata": {
    "collapsed": true
   },
   "outputs": [],
   "source": [
    "def conver_3(X,w,Y):\n",
    "    los = []\n",
    "    los.append(logistic_regression(X,w,Y))\n",
    "    H = np.identity(14)\n",
    "    step_size = 2\n",
    "    I = np.identity(14)\n",
    "    for i in range(5000):\n",
    "        g = update(H,w,X,Y,step_size)\n",
    "        #ax = np.argmax(np.abs(g[1]))\n",
    "        lost_pre = logistic_regression(X,w,Y)\n",
    "        w = g[2]\n",
    "        #w[ax] += g[1][0][ax]\n",
    "        #w[ax] -= gra[ax]\n",
    "        lost_cur = logistic_regression(X,w,Y)\n",
    "        los.append(lost_cur)\n",
    "        H = update_H(g[0],g[1],H)\n",
    "        if(np.abs(lost_pre - lost_cur) < 1e-4):\n",
    "            break\n",
    "    return [lost_cur,los]"
   ]
  },
  {
   "cell_type": "code",
   "execution_count": 569,
   "metadata": {
    "collapsed": true
   },
   "outputs": [],
   "source": [
    "def conver_4(X,w,Y):\n",
    "    los = []\n",
    "    los.append(logistic_regression(X,w,Y))\n",
    "    H = np.identity(14)\n",
    "    step_size = 1.8\n",
    "    I = np.identity(14)\n",
    "    ax = 0\n",
    "    for i in range(10000):\n",
    "        g = update(H,w,X,Y,step_size)\n",
    "        lost_pre = logistic_regression(X,w,Y)\n",
    "        #w = g[2]\n",
    "        w[ax] += g[1][0][ax]\n",
    "        #w[ax] = g[2][ax]\n",
    "        #w[ax] -= gra[ax]\n",
    "        lost_cur = logistic_regression(X,w,Y)\n",
    "        los.append(lost_cur)\n",
    "        H = update_H(g[0],g[1],H)\n",
    "        if ax == 13:\n",
    "            ax = 0\n",
    "        else:\n",
    "            ax = ax + 1\n",
    "        if(np.abs(lost_pre - lost_cur) < 1e-10):\n",
    "            break\n",
    "    return [lost_cur,los]"
   ]
  },
  {
   "cell_type": "code",
   "execution_count": 570,
   "metadata": {},
   "outputs": [],
   "source": [
    "w = list(np.zeros(14))\n",
    "temp = conver_4(trd, w, trl) \n",
    "#step \" 0.9 -> 50000 -> 0.05    0.05    1.5 ->0.0168  1.6:0.015\n",
    "# 1.6, 80000, 0.010   100000 :  0.00865"
   ]
  },
  {
   "cell_type": "code",
   "execution_count": 571,
   "metadata": {},
   "outputs": [
    {
     "data": {
      "text/plain": [
       "0.0050447472743649843"
      ]
     },
     "execution_count": 571,
     "metadata": {},
     "output_type": "execute_result"
    }
   ],
   "source": [
    "temp[0]"
   ]
  },
  {
   "cell_type": "code",
   "execution_count": null,
   "metadata": {
    "scrolled": true
   },
   "outputs": [],
   "source": []
  },
  {
   "cell_type": "code",
   "execution_count": 544,
   "metadata": {},
   "outputs": [
    {
     "data": {
      "text/plain": [
       "0.0050447472743649843"
      ]
     },
     "execution_count": 544,
     "metadata": {},
     "output_type": "execute_result"
    }
   ],
   "source": [
    "temp[0]"
   ]
  },
  {
   "cell_type": "code",
   "execution_count": 309,
   "metadata": {},
   "outputs": [],
   "source": [
    "# w = list(np.zeros(14))\n",
    "# temp = conver_3(trd, w, trl)"
   ]
  },
  {
   "cell_type": "code",
   "execution_count": 350,
   "metadata": {},
   "outputs": [],
   "source": [
    "my_ans = temp"
   ]
  },
  {
   "cell_type": "code",
   "execution_count": 248,
   "metadata": {},
   "outputs": [
    {
     "data": {
      "text/plain": [
       "0.065943261943750747"
      ]
     },
     "execution_count": 248,
     "metadata": {},
     "output_type": "execute_result"
    }
   ],
   "source": [
    "temp[0] #1.6"
   ]
  },
  {
   "cell_type": "code",
   "execution_count": 348,
   "metadata": {},
   "outputs": [
    {
     "data": {
      "text/plain": [
       "0.0069669009301348509"
      ]
     },
     "execution_count": 348,
     "metadata": {},
     "output_type": "execute_result"
    }
   ],
   "source": [
    "logistic_regression(trd, w,trl)"
   ]
  },
  {
   "cell_type": "code",
   "execution_count": 347,
   "metadata": {
    "scrolled": true
   },
   "outputs": [
    {
     "data": {
      "text/plain": [
       "array([ 0.00759297])"
      ]
     },
     "execution_count": 347,
     "metadata": {},
     "output_type": "execute_result"
    }
   ],
   "source": [
    "logistic_regression(trd, w_p,trl)"
   ]
  },
  {
   "cell_type": "code",
   "execution_count": 339,
   "metadata": {},
   "outputs": [
    {
     "data": {
      "text/plain": [
       "0.0069669009301348509"
      ]
     },
     "execution_count": 339,
     "metadata": {},
     "output_type": "execute_result"
    }
   ],
   "source": [
    "temp[0]#[size = 0.5]"
   ]
  },
  {
   "cell_type": "code",
   "execution_count": 523,
   "metadata": {},
   "outputs": [
    {
     "data": {
      "image/png": "[encoded data removed]",
      "text/plain": [
       "<matplotlib.figure.Figure at 0x1a1b817780>"
      ]
     },
     "metadata": {},
     "output_type": "display_data"
    }
   ],
   "source": [
    "draw(temp)"
   ]
  },
  {
   "cell_type": "code",
   "execution_count": 360,
   "metadata": {},
   "outputs": [],
   "source": [
    "tt = my_ans[1]"
   ]
  },
  {
   "cell_type": "code",
   "execution_count": 373,
   "metadata": {},
   "outputs": [
    {
     "data": {
      "image/png": "[encoded data removed]",
      "text/plain": [
       "<matplotlib.figure.Figure at 0x1a1b30b2b0>"
      ]
     },
     "metadata": {},
     "output_type": "display_data"
    }
   ],
   "source": [
    "x= [i for i in range(130000)]\n",
    "y= tt[:130000]\n",
    "y2 = [0.00759297]*130000\n",
    "plt.figure()\n",
    "plt.plot(x,y)\n",
    "plt.plot(x,y2)\n",
    "plt.plot()\n",
    "plt.show()"
   ]
  },
  {
   "cell_type": "code",
   "execution_count": 614,
   "metadata": {},
   "outputs": [],
   "source": [
    "def draw(ff):\n",
    "    x= [i for i in range(len(ff[1]))]\n",
    "    y= ff[1]\n",
    "\n",
    "    plt.figure()\n",
    "    plt.plot(x,y) \n",
    "    plt.show()\n",
    "    # plt.xlabel(\"time(s)\")  \n",
    "    # plt.ylabel(\"value(m)\")  \n",
    "    # plt.title(\"A simple plot\")  "
   ]
  },
  {
   "cell_type": "code",
   "execution_count": 552,
   "metadata": {},
   "outputs": [
    {
     "data": {
      "image/png": "[encoded data removed]",
      "text/plain": [
       "<matplotlib.figure.Figure at 0x1a1a46b438>"
      ]
     },
     "metadata": {},
     "output_type": "display_data"
    }
   ],
   "source": [
    "draw(ran)"
   ]
  },
  {
   "cell_type": "code",
   "execution_count": 580,
   "metadata": {
    "collapsed": true
   },
   "outputs": [],
   "source": [
    "def conver_random(X,w,Y):\n",
    "    los = []\n",
    "    los.append(logistic_regression(X,w,Y))\n",
    "    H = np.identity(14)\n",
    "    step_size = 1.8\n",
    "    I = np.identity(14)\n",
    "    for i in range(10000):\n",
    "        g = update(H,w,X,Y,step_size)\n",
    "        lost_pre = logistic_regression(X,w,Y)\n",
    "        ax = random.randint(0,13)\n",
    "        #w = g[2]\n",
    "        w[ax] += g[1][0][ax]\n",
    "        #w[ax] = g[2][ax]\n",
    "        #w[ax] -= gra[ax]\n",
    "        lost_cur = logistic_regression(X,w,Y)\n",
    "        los.append(lost_cur)\n",
    "        H = update_H(g[0],g[1],H)\n",
    "        if(np.abs(lost_pre - lost_cur) < 1e-9):\n",
    "            break\n",
    "    return [lost_cur,los]"
   ]
  },
  {
   "cell_type": "code",
   "execution_count": 581,
   "metadata": {},
   "outputs": [],
   "source": [
    "w = list(np.zeros(14))\n",
    "ran = conver_random(trd, w, trl)"
   ]
  },
  {
   "cell_type": "code",
   "execution_count": 649,
   "metadata": {},
   "outputs": [
    {
     "data": {
      "text/plain": [
       "0.0062903030983713819"
      ]
     },
     "execution_count": 649,
     "metadata": {},
     "output_type": "execute_result"
    }
   ],
   "source": [
    "ran[0]"
   ]
  },
  {
   "cell_type": "code",
   "execution_count": 590,
   "metadata": {},
   "outputs": [
    {
     "data": {
      "text/plain": [
       "1412"
      ]
     },
     "execution_count": 590,
     "metadata": {},
     "output_type": "execute_result"
    }
   ],
   "source": [
    "len(temp[1])"
   ]
  },
  {
   "cell_type": "code",
   "execution_count": 600,
   "metadata": {},
   "outputs": [
    {
     "data": {
      "image/png": "[encoded data removed]",
      "text/plain": [
       "<matplotlib.figure.Figure at 0x1a1bbb3ef0>"
      ]
     },
     "metadata": {},
     "output_type": "display_data"
    }
   ],
   "source": [
    "x= [i for i in range(30,100)]\n",
    "y= temp[1][30:100]\n",
    "y2 = [0.00759297]*(100 - 30)\n",
    "yr = ran[1][30:100]\n",
    "plt.figure()\n",
    "plt.plot(x,y)\n",
    "plt.plot(x,y2)\n",
    "plt.plot(x,yr)\n",
    "plt.plot()\n",
    "plt.show()"
   ]
  },
  {
   "cell_type": "code",
   "execution_count": null,
   "metadata": {
    "collapsed": true
   },
   "outputs": [],
   "source": []
  },
  {
   "cell_type": "code",
   "execution_count": 398,
   "metadata": {},
   "outputs": [
    {
     "data": {
      "image/png": "[encoded data removed]",
      "text/plain": [
       "<matplotlib.figure.Figure at 0x1a1a7402e8>"
      ]
     },
     "metadata": {},
     "output_type": "display_data"
    }
   ],
   "source": [
    "x= [i for i in range(50000,130000)]\n",
    "y= tt[50000:130000]\n",
    "y2 = [0.00759297]*(130000 - 50000)\n",
    "yr = ran[1][50000:130000]\n",
    "plt.figure()\n",
    "plt.plot(x,y)\n",
    "plt.plot(x,y2)\n",
    "plt.plot(x,yr)\n",
    "plt.plot()\n",
    "plt.show()"
   ]
  },
  {
   "cell_type": "code",
   "execution_count": 395,
   "metadata": {},
   "outputs": [],
   "source": [
    "a = range(50000,130000)"
   ]
  },
  {
   "cell_type": "code",
   "execution_count": null,
   "metadata": {},
   "outputs": [],
   "source": []
  },
  {
   "cell_type": "code",
   "execution_count": null,
   "metadata": {
    "collapsed": true
   },
   "outputs": [],
   "source": []
  }
 ],
 "metadata": {
  "kernelspec": {
   "display_name": "Python 3",
   "language": "python",
   "name": "python3"
  },
  "language_info": {
   "codemirror_mode": {
    "name": "ipython",
    "version": 3
   },
   "file_extension": ".py",
   "mimetype": "text/x-python",
   "name": "python",
   "nbconvert_exporter": "python",
   "pygments_lexer": "ipython3",
   "version": "3.6.2"
  }
 },
 "nbformat": 4,
 "nbformat_minor": 2
}
